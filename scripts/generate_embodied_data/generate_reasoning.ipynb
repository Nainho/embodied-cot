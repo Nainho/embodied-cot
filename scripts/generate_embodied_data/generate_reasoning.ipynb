{
 "cells": [
  {
   "cell_type": "code",
   "execution_count": 1,
   "id": "69c302b7",
   "metadata": {},
   "outputs": [
    {
     "name": "stderr",
     "output_type": "stream",
     "text": [
      "/opt/conda/lib/python3.8/site-packages/pandas/compat/_optional.py:161: UserWarning: Pandas requires version '2.7.1' or newer of 'numexpr' (version '2.7.0' currently installed).\n",
      "  warnings.warn(msg, UserWarning)\n"
     ]
    },
    {
     "ename": "ModuleNotFoundError",
     "evalue": "No module named 'utils'",
     "output_type": "error",
     "traceback": [
      "\u001b[0;31m---------------------------------------------------------------------------\u001b[0m",
      "\u001b[0;31mModuleNotFoundError\u001b[0m                       Traceback (most recent call last)",
      "Input \u001b[0;32mIn [1]\u001b[0m, in \u001b[0;36m<cell line: 10>\u001b[0;34m()\u001b[0m\n\u001b[1;32m      8\u001b[0m \u001b[38;5;28;01mfrom\u001b[39;00m \u001b[38;5;21;01mPIL\u001b[39;00m \u001b[38;5;28;01mimport\u001b[39;00m Image\n\u001b[1;32m      9\u001b[0m \u001b[38;5;28;01mfrom\u001b[39;00m \u001b[38;5;21;01mtqdm\u001b[39;00m \u001b[38;5;28;01mimport\u001b[39;00m tqdm\n\u001b[0;32m---> 10\u001b[0m \u001b[38;5;28;01mfrom\u001b[39;00m \u001b[38;5;21;01mutils\u001b[39;00m \u001b[38;5;28;01mimport\u001b[39;00m NumpyFloatValuesEncoder\n\u001b[1;32m     12\u001b[0m \u001b[38;5;28;01mfrom\u001b[39;00m \u001b[38;5;21;01mprismatic\u001b[39;00m \u001b[38;5;28;01mimport\u001b[39;00m load\n",
      "\u001b[0;31mModuleNotFoundError\u001b[0m: No module named 'utils'"
     ]
    }
   ],
   "source": [
    "import argparse\n",
    "import json\n",
    "import os\n",
    "import warnings\n",
    "\n",
    "import tensorflow_datasets as tfds\n",
    "import torch\n",
    "from PIL import Image\n",
    "from tqdm import tqdm\n",
    "from utils import NumpyFloatValuesEncoder\n",
    "\n",
    "from prismatic import load\n"
   ]
  },
  {
   "cell_type": "code",
   "execution_count": null,
   "id": "80faf415",
   "metadata": {},
   "outputs": [],
   "source": [
    "parser = argparse.ArgumentParser()\n",
    "\n",
    "parser.add_argument(\"--id\", type=int)\n",
    "parser.add_argument(\"--gpu\", type=int)\n",
    "parser.add_argument(\"--splits\", default=4, type=int)\n",
    "parser.add_argument(\"--results-path\", default=\"./\")\n",
    "\n",
    "args = parser.parse_args()\n",
    "\n",
    "device = f\"cuda:{args.gpu}\"\n",
    "hf_token = \"***REMOVED***\"\n",
    "vlm_model_id = \"prism-dinosiglip+7b\"\n",
    "\n",
    "warnings.filterwarnings(\"ignore\")\n",
    "\n",
    "\n",
    "split_percents = 100 // args.splits\n",
    "start = args.id * split_percents\n",
    "end = (args.id + 1) * split_percents\n",
    "\n",
    "# Load Bridge V2\n",
    "ds = tfds.load(\n",
    "    \"bridge_orig\",\n",
    "    data_dir=\"<TODO: Enter path to BridgeV2>\",\n",
    "    split=f\"train[{start}%:{end}%]\",\n",
    ")\n",
    "\n",
    "# Load Prismatic VLM\n",
    "print(f\"Loading Prismatic VLM ({vlm_model_id})...\")\n",
    "vlm = load(vlm_model_id, hf_token=hf_token)\n",
    "vlm = vlm.to(device, dtype=torch.bfloat16)\n",
    "\n",
    "results_json_path = os.path.join(args.results_path, f\"results_{args.id}.json\")\n",
    "\n",
    "\n",
    "def create_user_prompt(lang_instruction):\n",
    "    user_prompt = \"Briefly describe the things in this scene and their spatial relations to each other.\"\n",
    "    # user_prompt = \"Briefly describe the objects in this scene.\"]\n",
    "    lang_instruction = lang_instruction.strip()\n",
    "    if len(lang_instruction) > 0 and lang_instruction[-1] == \".\":\n",
    "        lang_instruction = lang_instruction[:-1]\n",
    "    if len(lang_instruction) > 0 and \" \" in lang_instruction:\n",
    "        user_prompt = f\"The robot task is: '{lang_instruction}.' \" + user_prompt\n",
    "    return user_prompt\n",
    "\n",
    "\n",
    "results_json = {}\n",
    "for episode in tqdm(ds):\n",
    "    episode_id = episode[\"episode_metadata\"][\"episode_id\"].numpy()\n",
    "    file_path = episode[\"episode_metadata\"][\"file_path\"].numpy().decode()\n",
    "    for step in episode[\"steps\"]:\n",
    "        lang_instruction = step[\"language_instruction\"].numpy().decode()\n",
    "        image = Image.fromarray(step[\"observation\"][\"image_0\"].numpy())\n",
    "\n",
    "        # user_prompt = \"Describe the objects in this scene. Be specific.\"\n",
    "        user_prompt = create_user_prompt(lang_instruction)\n",
    "        prompt_builder = vlm.get_prompt_builder()\n",
    "        prompt_builder.add_turn(role=\"human\", message=user_prompt)\n",
    "        prompt_text = prompt_builder.get_prompt()\n",
    "\n",
    "        torch.manual_seed(0)\n",
    "        caption = vlm.generate(\n",
    "            image,\n",
    "            prompt_text,\n",
    "            do_sample=True,\n",
    "            temperature=0.4,\n",
    "            max_new_tokens=64,\n",
    "            min_length=1,\n",
    "        )\n",
    "        break\n",
    "\n",
    "    episode_json = {\n",
    "        \"episode_id\": int(episode_id),\n",
    "        \"file_path\": file_path,\n",
    "        \"caption\": caption,\n",
    "    }\n",
    "\n",
    "    if file_path not in results_json.keys():\n",
    "        results_json[file_path] = {}\n",
    "\n",
    "    results_json[file_path][int(episode_id)] = episode_json\n",
    "\n",
    "    with open(results_json_path, \"w\") as f:\n",
    "        json.dump(results_json, f, cls=NumpyFloatValuesEncoder)\n"
   ]
  }
 ],
 "metadata": {
  "kernelspec": {
   "display_name": "base",
   "language": "python",
   "name": "python3"
  },
  "language_info": {
   "codemirror_mode": {
    "name": "ipython",
    "version": 3
   },
   "file_extension": ".py",
   "mimetype": "text/x-python",
   "name": "python",
   "nbconvert_exporter": "python",
   "pygments_lexer": "ipython3",
   "version": "3.8.12"
  }
 },
 "nbformat": 4,
 "nbformat_minor": 5
}
